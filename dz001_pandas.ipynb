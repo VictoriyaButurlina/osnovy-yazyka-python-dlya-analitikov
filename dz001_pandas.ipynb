{
  "nbformat": 4,
  "nbformat_minor": 0,
  "metadata": {
    "colab": {
      "provenance": []
    },
    "kernelspec": {
      "name": "python3",
      "display_name": "Python 3"
    },
    "language_info": {
      "name": "python"
    }
  },
  "cells": [
    {
      "cell_type": "markdown",
      "source": [
        "##Задача №1\n",
        "На складе лежат разные фрукты в разном количестве.\n",
        "Нужно написать функцию, которая на вход принимает любое количество названий фруктов и их количество, а возвращает общее количество фруктов на складе"
      ],
      "metadata": {
        "id": "jsSd-IkGu3Yt"
      }
    },
    {
      "cell_type": "code",
      "source": [
        "def calc(fruits: dict):\n",
        "  return sum(fruits.values())\n",
        "\n",
        "fruits={\n",
        "    'apple': 30,\n",
        "    'banana': 55,\n",
        "    'orange': 177\n",
        "}\n",
        "\n",
        "calc(fruits)"
      ],
      "metadata": {
        "colab": {
          "base_uri": "https://localhost:8080/"
        },
        "id": "nAgDeV5pO45Z",
        "outputId": "a9f26192-6388-4104-dd1f-a29b449f4cc0"
      },
      "execution_count": null,
      "outputs": [
        {
          "output_type": "execute_result",
          "data": {
            "text/plain": [
              "262"
            ]
          },
          "metadata": {},
          "execution_count": 3
        }
      ]
    },
    {
      "cell_type": "markdown",
      "source": [
        "\n",
        "##Задача №2\n",
        "Дан список с затратами на рекламу. Но в данных есть ошибки, некоторые затраты имеют отрицательную величину. Удалите такие значения из списка и посчитайте суммарные затраты\n",
        "[100, 125, -90, 345, 655, -1, 0, 200]\n",
        "Используйте list comprehensions"
      ],
      "metadata": {
        "id": "TUeYxrj62mTp"
      }
    },
    {
      "cell_type": "code",
      "execution_count": null,
      "metadata": {
        "id": "aikBMWIxuzMr"
      },
      "outputs": [],
      "source": [
        "list =  [100, 125, -90, 345, 655, -1, 0, 200] "
      ]
    },
    {
      "cell_type": "code",
      "source": [
        "sum(i for i in list if i >= 0)"
      ],
      "metadata": {
        "colab": {
          "base_uri": "https://localhost:8080/"
        },
        "id": "ZBzpx5LMRR_4",
        "outputId": "f3e6ca19-f1cb-4dc8-9fab-46c053bf1981"
      },
      "execution_count": null,
      "outputs": [
        {
          "output_type": "execute_result",
          "data": {
            "text/plain": [
              "1425"
            ]
          },
          "metadata": {},
          "execution_count": 6
        }
      ]
    },
    {
      "cell_type": "markdown",
      "source": [
        "##Задача №3\n",
        "Даны два списка.\n",
        "\n",
        "*   Дата покупки\n",
        "*   Суммы покупок по датам\n"
      ],
      "metadata": {
        "id": "AYr9PmPbRrZP"
      }
    },
    {
      "cell_type": "code",
      "source": [
        "date= ['2021-09-14', '2021-12-15', '2021-09-08', '2021-12-05', '2021-10-09', '2021-09-30', '2021-12-22', '2021-11-29', '2021-12-24', '2021-11-26', '2021-10-27', '2021-12-18', '2021-11-09', '2021-11-23', '2021-09-27', '2021-10-02', '2021-12-27', '2021-09-20', '2021-12-13', '2021-11-01', '2021-11-09', '2021-12-06', '2021-12-08', '2021-10-09', '2021-10-31', '2021-09-30', '2021-11-09', '2021-12-13', '2021-10-26', '2021-12-09']\n",
        "sum_pay = [1270, 8413, 9028, 3703, 5739, 4095, 295, 4944, 5723, 3701, 4471, 651, 7037, 4274, 6275, 4988, 6930, 2971, 6592, 2004, 2822, 519, 3406, 2732, 5015, 2008, 316, 6333, 5700, 2887]"
      ],
      "metadata": {
        "id": "02CdOHLYSF_X"
      },
      "execution_count": null,
      "outputs": []
    },
    {
      "cell_type": "markdown",
      "source": [
        "### Задача №3.1.\n",
        "Найдите, какая выручка у компании в ноябре\n",
        "Используйте list comprehensions"
      ],
      "metadata": {
        "id": "QxD3gkkKSrTY"
      }
    },
    {
      "cell_type": "code",
      "source": [
        "sum (i[1] for i in zip(date, sum_pay) if '-11-' in i[0])"
      ],
      "metadata": {
        "colab": {
          "base_uri": "https://localhost:8080/"
        },
        "id": "FLvypztGSxJO",
        "outputId": "f03a952b-f462-47c0-deaf-dbc69c48a41b"
      },
      "execution_count": null,
      "outputs": [
        {
          "output_type": "execute_result",
          "data": {
            "text/plain": [
              "25098"
            ]
          },
          "metadata": {},
          "execution_count": 12
        }
      ]
    },
    {
      "cell_type": "markdown",
      "source": [
        "###Задача №3.2.\n",
        "Найдите выручку компании в зависимости от месяца\n",
        "Для этого напишите функцию, которая на вход принимает список с датами и список с выручкой, а на выходе словарь, где ключи - это месяцы, а значения - это выручка.\n",
        "Используйте аннотирование типов."
      ],
      "metadata": {
        "id": "Obd1JAuaTbMQ"
      }
    },
    {
      "cell_type": "code",
      "source": [
        "def sum_month (d: List, r: List):\n",
        "    new_dict= [(i[0][5:7], i[1]) for i in zip(d, r)]\n",
        "    dictionary_revenue= {i[0]:0 for i in new_dict}\n",
        "    for i in new_dict:\n",
        "      dictionary_revenue[i[0]]+=i[1]\n",
        "    return dictionary_revenue\n",
        "\n",
        "\n",
        "sum_month(date, sum_pay)"
      ],
      "metadata": {
        "colab": {
          "base_uri": "https://localhost:8080/"
        },
        "id": "OOBPj49lTktP",
        "outputId": "1d9403eb-6ee7-4d1c-b93b-778ffb04bb87"
      },
      "execution_count": null,
      "outputs": [
        {
          "output_type": "execute_result",
          "data": {
            "text/plain": [
              "{'09': 25647, '12': 45452, '10': 28645, '11': 25098}"
            ]
          },
          "metadata": {},
          "execution_count": 26
        }
      ]
    }
  ]
}